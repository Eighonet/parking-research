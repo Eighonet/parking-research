{
 "cells": [
  {
   "cell_type": "code",
   "execution_count": 1,
   "id": "cf25886f",
   "metadata": {},
   "outputs": [],
   "source": [
    "from scripts.annotation_widget import pa_widget"
   ]
  },
  {
   "cell_type": "code",
   "execution_count": 3,
   "id": "9fe58f3e",
   "metadata": {},
   "outputs": [
    {
     "data": {
      "application/vnd.jupyter.widget-view+json": {
       "model_id": "fd43438ecefc4dbcadbf667342788408",
       "version_major": 2,
       "version_minor": 0
      },
      "text/plain": [
       "VBox(children=(HBox(children=(Button(description='Annotate', layout=Layout(width='80px'), style=ButtonStyle(bu…"
      ]
     },
     "metadata": {},
     "output_type": "display_data"
    }
   ],
   "source": [
    "%matplotlib widget\n",
    "pa_widget(markup_dir=\"parking_photos/\")"
   ]
  }
 ],
 "metadata": {
  "kernelspec": {
   "display_name": "Python 3 (ipykernel)",
   "language": "python",
   "name": "python3"
  },
  "language_info": {
   "codemirror_mode": {
    "name": "ipython",
    "version": 3
   },
   "file_extension": ".py",
   "mimetype": "text/x-python",
   "name": "python",
   "nbconvert_exporter": "python",
   "pygments_lexer": "ipython3",
   "version": "3.11.6"
  }
 },
 "nbformat": 4,
 "nbformat_minor": 5
}
