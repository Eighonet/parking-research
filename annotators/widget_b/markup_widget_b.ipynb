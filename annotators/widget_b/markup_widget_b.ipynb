{
 "cells": [
  {
   "cell_type": "code",
   "execution_count": 1,
   "id": "1310c163",
   "metadata": {
    "scrolled": false
   },
   "outputs": [
    {
     "ename": "FileNotFoundError",
     "evalue": "[Errno 2] No such file or directory: '/Users/argon/Documents/bachelor/code/parking-research/annotators/widget_b/img'",
     "output_type": "error",
     "traceback": [
      "\u001b[1;31m---------------------------------------------------------------------------\u001b[0m",
      "\u001b[1;31mFileNotFoundError\u001b[0m                         Traceback (most recent call last)",
      "\u001b[1;32mc:\\Users\\slava\\Documents\\AI\\parking-research-argon\\annotators\\widget_b\\markup_widget_b.ipynb Cell 1\u001b[0m line \u001b[0;36m4\n\u001b[0;32m      <a href='vscode-notebook-cell:/c%3A/Users/slava/Documents/AI/parking-research-argon/annotators/widget_b/markup_widget_b.ipynb#W0sZmlsZQ%3D%3D?line=0'>1</a>\u001b[0m \u001b[39mfrom\u001b[39;00m \u001b[39mscripts\u001b[39;00m\u001b[39m.\u001b[39;00m\u001b[39mlabeling_widget\u001b[39;00m \u001b[39mimport\u001b[39;00m pm_widget\n\u001b[0;32m      <a href='vscode-notebook-cell:/c%3A/Users/slava/Documents/AI/parking-research-argon/annotators/widget_b/markup_widget_b.ipynb#W0sZmlsZQ%3D%3D?line=2'>3</a>\u001b[0m get_ipython()\u001b[39m.\u001b[39mrun_line_magic(\u001b[39m'\u001b[39m\u001b[39mmatplotlib\u001b[39m\u001b[39m'\u001b[39m, \u001b[39m'\u001b[39m\u001b[39mwidget\u001b[39m\u001b[39m'\u001b[39m)\n\u001b[1;32m----> <a href='vscode-notebook-cell:/c%3A/Users/slava/Documents/AI/parking-research-argon/annotators/widget_b/markup_widget_b.ipynb#W0sZmlsZQ%3D%3D?line=3'>4</a>\u001b[0m pm_widget(\u001b[39m'\u001b[39;49m\u001b[39m/Users/argon/Documents/bachelor/code/parking-research/annotators/widget_b/img\u001b[39;49m\u001b[39m'\u001b[39;49m)\n",
      "File \u001b[1;32mc:\\Users\\slava\\Documents\\AI\\parking-research-argon\\annotators\\widget_b\\scripts\\labeling_widget.py:48\u001b[0m, in \u001b[0;36mpm_widget\u001b[1;34m(annotation_path, output_dir)\u001b[0m\n\u001b[0;32m     46\u001b[0m         \u001b[39mself\u001b[39m\u001b[39m.\u001b[39mcurrent_folder \u001b[39m=\u001b[39m folders[\u001b[39m0\u001b[39m]\n\u001b[0;32m     47\u001b[0m         \u001b[39mself\u001b[39m\u001b[39m.\u001b[39mcurrent_image \u001b[39m=\u001b[39m [file \u001b[39mfor\u001b[39;00m file \u001b[39min\u001b[39;00m listdir(folders[\u001b[39m0\u001b[39m][:\u001b[39m-\u001b[39m\u001b[39m4\u001b[39m])][\u001b[39m0\u001b[39m]\n\u001b[1;32m---> 48\u001b[0m annotator \u001b[39m=\u001b[39m Annotator()\n\u001b[0;32m     50\u001b[0m \u001b[39mdef\u001b[39;00m \u001b[39mget_image\u001b[39m(path: \u001b[39mstr\u001b[39m) \u001b[39m-\u001b[39m\u001b[39m>\u001b[39m \u001b[39mbytes\u001b[39m:\n\u001b[0;32m     51\u001b[0m     \u001b[39mwith\u001b[39;00m \u001b[39mopen\u001b[39m(path, \u001b[39m'\u001b[39m\u001b[39mrb\u001b[39m\u001b[39m'\u001b[39m) \u001b[39mas\u001b[39;00m f:\n",
      "File \u001b[1;32mc:\\Users\\slava\\Documents\\AI\\parking-research-argon\\annotators\\widget_b\\scripts\\labeling_widget.py:38\u001b[0m, in \u001b[0;36mpm_widget.<locals>.Annotator.__init__\u001b[1;34m(self)\u001b[0m\n\u001b[0;32m     35\u001b[0m         markup[i] \u001b[39m=\u001b[39m (\u001b[39mtuple\u001b[39m(markup[i][\u001b[39m0\u001b[39m]),\u001b[39mtuple\u001b[39m(markup[i][\u001b[39m1\u001b[39m]))\n\u001b[0;32m     36\u001b[0m     \u001b[39mreturn\u001b[39;00m markup\n\u001b[1;32m---> 38\u001b[0m \u001b[39mwith\u001b[39;00m \u001b[39mopen\u001b[39;49m(annotation_path) \u001b[39mas\u001b[39;00m f:\n\u001b[0;32m     39\u001b[0m     \u001b[39mself\u001b[39m\u001b[39m.\u001b[39mmarkup \u001b[39m=\u001b[39m json\u001b[39m.\u001b[39mloads(f\u001b[39m.\u001b[39mread())\n\u001b[0;32m     40\u001b[0m folders \u001b[39m=\u001b[39m \u001b[39msorted\u001b[39m(\u001b[39mlist\u001b[39m(\u001b[39mself\u001b[39m\u001b[39m.\u001b[39mmarkup\u001b[39m.\u001b[39mkeys()))\n",
      "\u001b[1;31mFileNotFoundError\u001b[0m: [Errno 2] No such file or directory: '/Users/argon/Documents/bachelor/code/parking-research/annotators/widget_b/img'"
     ]
    }
   ],
   "source": [
    "from scripts.labeling_widget import pm_widget\n",
    "\n",
    "pm_widget()"
   ]
  }
 ],
 "metadata": {
  "kernelspec": {
   "display_name": "Python 3 (ipykernel)",
   "language": "python",
   "name": "python3"
  },
  "language_info": {
   "codemirror_mode": {
    "name": "ipython",
    "version": 3
   },
   "file_extension": ".py",
   "mimetype": "text/x-python",
   "name": "python",
   "nbconvert_exporter": "python",
   "pygments_lexer": "ipython3",
   "version": "3.11.6"
  }
 },
 "nbformat": 4,
 "nbformat_minor": 5
}
