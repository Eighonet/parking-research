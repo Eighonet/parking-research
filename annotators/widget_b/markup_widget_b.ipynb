{
 "cells": [
  {
   "cell_type": "code",
   "execution_count": 1,
   "id": "1310c163",
   "metadata": {
    "scrolled": false
   },
   "outputs": [
    {
     "ename": "KeyError",
     "evalue": "'/img'",
     "output_type": "error",
     "traceback": [
      "\u001b[0;31m---------------------------------------------------------------------------\u001b[0m",
      "\u001b[0;31mKeyError\u001b[0m                                  Traceback (most recent call last)",
      "\u001b[1;32m/Users/argon/Documents/bachelor/code/parking-research/annotators/widget_b/markup_widget_b.ipynb Cell 1\u001b[0m line \u001b[0;36m4\n\u001b[1;32m      <a href='vscode-notebook-cell:/Users/argon/Documents/bachelor/code/parking-research/annotators/widget_b/markup_widget_b.ipynb#W1sZmlsZQ%3D%3D?line=0'>1</a>\u001b[0m \u001b[39mfrom\u001b[39;00m \u001b[39mscripts\u001b[39;00m\u001b[39m.\u001b[39;00m\u001b[39mlabeling_widget\u001b[39;00m \u001b[39mimport\u001b[39;00m pm_widget\n\u001b[1;32m      <a href='vscode-notebook-cell:/Users/argon/Documents/bachelor/code/parking-research/annotators/widget_b/markup_widget_b.ipynb#W1sZmlsZQ%3D%3D?line=2'>3</a>\u001b[0m get_ipython()\u001b[39m.\u001b[39mrun_line_magic(\u001b[39m'\u001b[39m\u001b[39mmatplotlib\u001b[39m\u001b[39m'\u001b[39m, \u001b[39m'\u001b[39m\u001b[39mwidget\u001b[39m\u001b[39m'\u001b[39m)\n\u001b[0;32m----> <a href='vscode-notebook-cell:/Users/argon/Documents/bachelor/code/parking-research/annotators/widget_b/markup_widget_b.ipynb#W1sZmlsZQ%3D%3D?line=3'>4</a>\u001b[0m pm_widget()\n",
      "File \u001b[0;32m~/Documents/bachelor/code/parking-research/annotators/widget_b/scripts/labeling_widget.py:48\u001b[0m, in \u001b[0;36mpm_widget\u001b[0;34m(annotation_path, output_dir)\u001b[0m\n\u001b[1;32m     46\u001b[0m         \u001b[39mself\u001b[39m\u001b[39m.\u001b[39mcurrent_folder \u001b[39m=\u001b[39m \u001b[39mstr\u001b[39m(image_folder_path)\n\u001b[1;32m     47\u001b[0m         \u001b[39mself\u001b[39m\u001b[39m.\u001b[39mcurrent_image \u001b[39m=\u001b[39m files[\u001b[39m0\u001b[39m]\u001b[39m.\u001b[39mname \u001b[39mif\u001b[39;00m files \u001b[39melse\u001b[39;00m \u001b[39mNone\u001b[39;00m\n\u001b[0;32m---> 48\u001b[0m annotator \u001b[39m=\u001b[39m Annotator()\n\u001b[1;32m     50\u001b[0m \u001b[39mdef\u001b[39;00m \u001b[39mget_image\u001b[39m(path: \u001b[39mstr\u001b[39m) \u001b[39m-\u001b[39m\u001b[39m>\u001b[39m \u001b[39mbytes\u001b[39m:\n\u001b[1;32m     51\u001b[0m     \u001b[39mwith\u001b[39;00m \u001b[39mopen\u001b[39m(path, \u001b[39m'\u001b[39m\u001b[39mrb\u001b[39m\u001b[39m'\u001b[39m) \u001b[39mas\u001b[39;00m f:\n",
      "File \u001b[0;32m~/Documents/bachelor/code/parking-research/annotators/widget_b/scripts/labeling_widget.py:43\u001b[0m, in \u001b[0;36mpm_widget.<locals>.Annotator.__init__\u001b[0;34m(self)\u001b[0m\n\u001b[1;32m     40\u001b[0m     \u001b[39mself\u001b[39m\u001b[39m.\u001b[39mmarkup \u001b[39m=\u001b[39m json\u001b[39m.\u001b[39mloads(f\u001b[39m.\u001b[39mread())\n\u001b[1;32m     42\u001b[0m image_folder_path \u001b[39m=\u001b[39m Path(\u001b[39m'\u001b[39m\u001b[39m/img\u001b[39m\u001b[39m'\u001b[39m)    \n\u001b[0;32m---> 43\u001b[0m data \u001b[39m=\u001b[39m to_tuple(\u001b[39mself\u001b[39;49m\u001b[39m.\u001b[39;49mmarkup[\u001b[39mstr\u001b[39;49m(image_folder_path)])  \u001b[39m# Use the image_folder_path to access markup data\u001b[39;00m\n\u001b[1;32m     44\u001b[0m files \u001b[39m=\u001b[39m [file \u001b[39mfor\u001b[39;00m file \u001b[39min\u001b[39;00m image_folder_path\u001b[39m.\u001b[39mglob(\u001b[39m'\u001b[39m\u001b[39m*\u001b[39m\u001b[39m'\u001b[39m) \u001b[39mif\u001b[39;00m file\u001b[39m.\u001b[39mis_file()]\n\u001b[1;32m     45\u001b[0m \u001b[39mself\u001b[39m\u001b[39m.\u001b[39mlabels \u001b[39m=\u001b[39m {\u001b[39mstr\u001b[39m(image_folder_path): {file\u001b[39m.\u001b[39mname: {data[j]: \u001b[39m1\u001b[39m \u001b[39mfor\u001b[39;00m j \u001b[39min\u001b[39;00m \u001b[39mrange\u001b[39m(\u001b[39mlen\u001b[39m(data))} \u001b[39mfor\u001b[39;00m file \u001b[39min\u001b[39;00m files}}\n",
      "\u001b[0;31mKeyError\u001b[0m: '/img'"
     ]
    }
   ],
   "source": [
    "from scripts.labeling_widget import pm_widget\n",
    "\n",
    "%matplotlib widget\n",
    "pm_widget('/Users/argon/Documents/bachelor/code/parking-research/annotators/widget_b/img')"
   ]
  }
 ],
 "metadata": {
  "kernelspec": {
   "display_name": "Python 3 (ipykernel)",
   "language": "python",
   "name": "python3"
  },
  "language_info": {
   "codemirror_mode": {
    "name": "ipython",
    "version": 3
   },
   "file_extension": ".py",
   "mimetype": "text/x-python",
   "name": "python",
   "nbconvert_exporter": "python",
   "pygments_lexer": "ipython3",
   "version": "3.11.4"
  }
 },
 "nbformat": 4,
 "nbformat_minor": 5
}
