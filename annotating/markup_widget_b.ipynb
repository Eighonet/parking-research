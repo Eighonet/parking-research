{
 "cells": [
  {
   "cell_type": "code",
   "execution_count": 2,
   "id": "b9c9ebbe",
   "metadata": {},
   "outputs": [
    {
     "name": "stderr",
     "output_type": "stream",
     "text": [
      "  0%|          | 0/83 [02:36<?, ?it/s]\n"
     ]
    },
    {
     "ename": "FileNotFoundError",
     "evalue": "[Errno 2] No such file or directory: 'T10LOT/T10LOT/int_markup/10.json'",
     "output_type": "error",
     "traceback": [
      "\u001b[0;31m---------------------------------------------------------------------------\u001b[0m",
      "\u001b[0;31mFileNotFoundError\u001b[0m                         Traceback (most recent call last)",
      "Cell \u001b[0;32mIn[2], line 5\u001b[0m\n\u001b[1;32m      3\u001b[0m dataset \u001b[38;5;241m=\u001b[39m \u001b[38;5;124m\"\u001b[39m\u001b[38;5;124mT10LOT\u001b[39m\u001b[38;5;124m\"\u001b[39m\n\u001b[1;32m      4\u001b[0m img_annotation_classes(dataset)\n\u001b[0;32m----> 5\u001b[0m \u001b[43mpatch_crop\u001b[49m\u001b[43m(\u001b[49m\u001b[43mdataset\u001b[49m\u001b[43m)\u001b[49m\n\u001b[1;32m      6\u001b[0m patch_ilm(dataset)\n\u001b[1;32m      7\u001b[0m splitter(dataset)\n",
      "File \u001b[0;32m~/Documents/Bachelor/code/parking-research-argon/annotating/scripts/process_data.py:81\u001b[0m, in \u001b[0;36mpatch_crop\u001b[0;34m(dataset)\u001b[0m\n\u001b[1;32m     79\u001b[0m \u001b[38;5;28;01mif\u001b[39;00m image_path\u001b[38;5;241m.\u001b[39msplit(\u001b[38;5;124m'\u001b[39m\u001b[38;5;124m.\u001b[39m\u001b[38;5;124m'\u001b[39m)[\u001b[38;5;241m-\u001b[39m\u001b[38;5;241m1\u001b[39m] \u001b[38;5;241m==\u001b[39m \u001b[38;5;124m\"\u001b[39m\u001b[38;5;124mjpg\u001b[39m\u001b[38;5;124m\"\u001b[39m:\n\u001b[1;32m     80\u001b[0m     annot_path \u001b[38;5;241m=\u001b[39m \u001b[38;5;124mf\u001b[39m\u001b[38;5;124m\"\u001b[39m\u001b[38;5;132;01m{\u001b[39;00mint_markup_dir\u001b[38;5;132;01m}\u001b[39;00m\u001b[38;5;124m/\u001b[39m\u001b[38;5;132;01m{\u001b[39;00mimage_path\u001b[38;5;241m.\u001b[39msplit(\u001b[38;5;124m'\u001b[39m\u001b[38;5;124m.\u001b[39m\u001b[38;5;124m'\u001b[39m)[\u001b[38;5;241m0\u001b[39m]\u001b[38;5;132;01m}\u001b[39;00m\u001b[38;5;124m.json\u001b[39m\u001b[38;5;124m\"\u001b[39m\n\u001b[0;32m---> 81\u001b[0m     annot \u001b[38;5;241m=\u001b[39m json\u001b[38;5;241m.\u001b[39mload(\u001b[38;5;28;43mopen\u001b[39;49m\u001b[43m(\u001b[49m\u001b[43mannot_path\u001b[49m\u001b[43m)\u001b[49m)\n\u001b[1;32m     82\u001b[0m     img \u001b[38;5;241m=\u001b[39m cv2\u001b[38;5;241m.\u001b[39mimread(\u001b[38;5;124mf\u001b[39m\u001b[38;5;124m\"\u001b[39m\u001b[38;5;132;01m{\u001b[39;00mimages_dir\u001b[38;5;132;01m}\u001b[39;00m\u001b[38;5;124m/\u001b[39m\u001b[38;5;132;01m{\u001b[39;00mimage_path\u001b[38;5;132;01m}\u001b[39;00m\u001b[38;5;124m\"\u001b[39m)\n\u001b[1;32m     83\u001b[0m     \u001b[38;5;28;01mfor\u001b[39;00m lot \u001b[38;5;129;01min\u001b[39;00m annot[\u001b[38;5;124m\"\u001b[39m\u001b[38;5;124mlots\u001b[39m\u001b[38;5;124m\"\u001b[39m]:\n",
      "\u001b[0;31mFileNotFoundError\u001b[0m: [Errno 2] No such file or directory: 'T10LOT/T10LOT/int_markup/10.json'"
     ]
    }
   ],
   "source": [
    "from scripts.process_data import *\n",
    "\n",
    "dataset = \"T10LOT\"\n",
    "img_annotation_classes(dataset)\n",
    "patch_crop(dataset)\n",
    "patch_ilm(dataset)\n",
    "splitter(dataset)\n",
    "get_dataframe(dataset)"
   ]
  },
  {
   "cell_type": "code",
   "execution_count": 1,
   "id": "1310c163",
   "metadata": {
    "scrolled": false
   },
   "outputs": [
    {
     "data": {
      "application/vnd.jupyter.widget-view+json": {
       "model_id": "28e8c0017d204d74b575df98829fce13",
       "version_major": 2,
       "version_minor": 0
      },
      "text/plain": [
       "Tab(children=(VBox(children=(Image(value=b'\\xff\\xd8\\xff\\xe0\\x00\\x10JFIF\\x00\\x01\\x01\\x00\\x00\\x01\\x00\\x01\\x00\\x0…"
      ]
     },
     "metadata": {},
     "output_type": "display_data"
    },
    {
     "ename": "NotADirectoryError",
     "evalue": "[Errno 20] Not a directory: 'T10LOT/T10LOT_annotation_classes/.DS_Store'",
     "output_type": "error",
     "traceback": [
      "\u001b[0;31m---------------------------------------------------------------------------\u001b[0m",
      "\u001b[0;31mNotADirectoryError\u001b[0m                        Traceback (most recent call last)",
      "File \u001b[0;32m~/Documents/Bachelor/code/parking-research-argon/annotating/scripts/labeling_widget.py:149\u001b[0m, in \u001b[0;36mpm_widget.<locals>.download_button_clicked\u001b[0;34m(b)\u001b[0m\n\u001b[1;32m    147\u001b[0m             f\u001b[38;5;241m.\u001b[39mwrite(COCO_output)\n\u001b[1;32m    148\u001b[0m \u001b[38;5;66;03m#Process data using the process_data functions\u001b[39;00m\n\u001b[0;32m--> 149\u001b[0m \u001b[43mimg_annotation_classes\u001b[49m\u001b[43m(\u001b[49m\u001b[43mdataset_name\u001b[49m\u001b[43m)\u001b[49m\n\u001b[1;32m    150\u001b[0m patch_crop(dataset_name)\n\u001b[1;32m    151\u001b[0m patch_ilm(dataset_name)\n",
      "File \u001b[0;32m~/Documents/Bachelor/code/parking-research-argon/annotating/scripts/process_data.py:19\u001b[0m, in \u001b[0;36mimg_annotation_classes\u001b[0;34m(dataset)\u001b[0m\n\u001b[1;32m     16\u001b[0m full_image_set \u001b[38;5;241m=\u001b[39m \u001b[38;5;28mset\u001b[39m(os\u001b[38;5;241m.\u001b[39mlistdir(\u001b[38;5;124mf\u001b[39m\u001b[38;5;124m'\u001b[39m\u001b[38;5;132;01m{\u001b[39;00mmain_dir\u001b[38;5;132;01m}\u001b[39;00m\u001b[38;5;124m/images\u001b[39m\u001b[38;5;124m'\u001b[39m))\n\u001b[1;32m     18\u001b[0m annotation_classes \u001b[38;5;241m=\u001b[39m os\u001b[38;5;241m.\u001b[39mlistdir(annot_classes_dir)\n\u001b[0;32m---> 19\u001b[0m annotation_sets \u001b[38;5;241m=\u001b[39m \u001b[43m[\u001b[49m\u001b[38;5;28;43mset\u001b[39;49m\u001b[43m(\u001b[49m\u001b[43mos\u001b[49m\u001b[38;5;241;43m.\u001b[39;49m\u001b[43mlistdir\u001b[49m\u001b[43m(\u001b[49m\u001b[38;5;124;43mf\u001b[39;49m\u001b[38;5;124;43m'\u001b[39;49m\u001b[38;5;132;43;01m{\u001b[39;49;00m\u001b[43mannot_classes_dir\u001b[49m\u001b[38;5;132;43;01m}\u001b[39;49;00m\u001b[38;5;124;43m/\u001b[39;49m\u001b[38;5;132;43;01m{\u001b[39;49;00m\u001b[43mannot_class\u001b[49m\u001b[38;5;132;43;01m}\u001b[39;49;00m\u001b[38;5;124;43m'\u001b[39;49m\u001b[43m)\u001b[49m\u001b[43m)\u001b[49m\u001b[43m \u001b[49m\u001b[38;5;28;43;01mfor\u001b[39;49;00m\u001b[43m \u001b[49m\u001b[43mannot_class\u001b[49m\u001b[43m \u001b[49m\u001b[38;5;129;43;01min\u001b[39;49;00m\u001b[43m \u001b[49m\u001b[43mannotation_classes\u001b[49m\u001b[43m]\u001b[49m\n\u001b[1;32m     21\u001b[0m annot_classes_dict \u001b[38;5;241m=\u001b[39m {img: [] \u001b[38;5;28;01mfor\u001b[39;00m img \u001b[38;5;129;01min\u001b[39;00m full_image_set}\n\u001b[1;32m     23\u001b[0m \u001b[38;5;28;01mfor\u001b[39;00m annot_class, annot_set \u001b[38;5;129;01min\u001b[39;00m \u001b[38;5;28mzip\u001b[39m(annotation_classes, annotation_sets):\n",
      "File \u001b[0;32m~/Documents/Bachelor/code/parking-research-argon/annotating/scripts/process_data.py:19\u001b[0m, in \u001b[0;36m<listcomp>\u001b[0;34m(.0)\u001b[0m\n\u001b[1;32m     16\u001b[0m full_image_set \u001b[38;5;241m=\u001b[39m \u001b[38;5;28mset\u001b[39m(os\u001b[38;5;241m.\u001b[39mlistdir(\u001b[38;5;124mf\u001b[39m\u001b[38;5;124m'\u001b[39m\u001b[38;5;132;01m{\u001b[39;00mmain_dir\u001b[38;5;132;01m}\u001b[39;00m\u001b[38;5;124m/images\u001b[39m\u001b[38;5;124m'\u001b[39m))\n\u001b[1;32m     18\u001b[0m annotation_classes \u001b[38;5;241m=\u001b[39m os\u001b[38;5;241m.\u001b[39mlistdir(annot_classes_dir)\n\u001b[0;32m---> 19\u001b[0m annotation_sets \u001b[38;5;241m=\u001b[39m [\u001b[38;5;28mset\u001b[39m(\u001b[43mos\u001b[49m\u001b[38;5;241;43m.\u001b[39;49m\u001b[43mlistdir\u001b[49m\u001b[43m(\u001b[49m\u001b[38;5;124;43mf\u001b[39;49m\u001b[38;5;124;43m'\u001b[39;49m\u001b[38;5;132;43;01m{\u001b[39;49;00m\u001b[43mannot_classes_dir\u001b[49m\u001b[38;5;132;43;01m}\u001b[39;49;00m\u001b[38;5;124;43m/\u001b[39;49m\u001b[38;5;132;43;01m{\u001b[39;49;00m\u001b[43mannot_class\u001b[49m\u001b[38;5;132;43;01m}\u001b[39;49;00m\u001b[38;5;124;43m'\u001b[39;49m\u001b[43m)\u001b[49m) \u001b[38;5;28;01mfor\u001b[39;00m annot_class \u001b[38;5;129;01min\u001b[39;00m annotation_classes]\n\u001b[1;32m     21\u001b[0m annot_classes_dict \u001b[38;5;241m=\u001b[39m {img: [] \u001b[38;5;28;01mfor\u001b[39;00m img \u001b[38;5;129;01min\u001b[39;00m full_image_set}\n\u001b[1;32m     23\u001b[0m \u001b[38;5;28;01mfor\u001b[39;00m annot_class, annot_set \u001b[38;5;129;01min\u001b[39;00m \u001b[38;5;28mzip\u001b[39m(annotation_classes, annotation_sets):\n",
      "\u001b[0;31mNotADirectoryError\u001b[0m: [Errno 20] Not a directory: 'T10LOT/T10LOT_annotation_classes/.DS_Store'"
     ]
    }
   ],
   "source": [
    "from scripts.labeling_widget import pm_widget\n",
    "\n",
    "pm_widget(dataset=\"T10LOT\")"
   ]
  }
 ],
 "metadata": {
  "kernelspec": {
   "display_name": "Python 3 (ipykernel)",
   "language": "python",
   "name": "python3"
  },
  "language_info": {
   "codemirror_mode": {
    "name": "ipython",
    "version": 3
   },
   "file_extension": ".py",
   "mimetype": "text/x-python",
   "name": "python",
   "nbconvert_exporter": "python",
   "pygments_lexer": "ipython3",
   "version": "3.11.5"
  }
 },
 "nbformat": 4,
 "nbformat_minor": 5
}
