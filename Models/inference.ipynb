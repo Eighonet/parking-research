{
 "cells": [
  {
   "cell_type": "markdown",
   "metadata": {},
   "source": [
    "# Import"
   ]
  },
  {
   "cell_type": "code",
   "execution_count": 1,
   "metadata": {},
   "outputs": [
    {
     "name": "stdout",
     "output_type": "stream",
     "text": [
      "Using CPU\n",
      "Recommend using GPU for faster training\n"
     ]
    }
   ],
   "source": [
    "import sys\n",
    "from baselines.intersection_based.inter_models import *\n",
    "from baselines.utils.common_utils import seed_everything, get_device\n",
    "from baselines.utils.inter_utils import *\n",
    "import pandas as pd\n",
    "import os\n",
    "import torch\n",
    "from torch.utils.data import DataLoader, Dataset\n",
    "device = get_device()\n",
    "import warnings\n",
    "warnings.filterwarnings(\"ignore\")\n",
    "import cv2\n",
    "import matplotlib.pyplot as plt"
   ]
  },
  {
   "cell_type": "markdown",
   "metadata": {},
   "source": [
    "# Settings"
   ]
  },
  {
   "cell_type": "code",
   "execution_count": 2,
   "metadata": {},
   "outputs": [],
   "source": [
    "#Settings\n",
    "#Instead of using argparse set the arguments here\n",
    "min_size = 300\n",
    "max_size = 500\n",
    "mean = [0.485, 0.456, 0.406]\n",
    "std = [0.229, 0.224, 0.225]\n",
    "class settings:\n",
    "    dataframe = \"datasets/T10LOT/T10LOT/T10LOT_dataframe.csv\"\n",
    "    path =  \"datasets/T10LOT/T10LOT\"\n",
    "    model_type = \"retinanet_mobilenet\"\n",
    "    batch_size = 1"
   ]
  },
  {
   "cell_type": "markdown",
   "metadata": {},
   "source": [
    "# Trained model testing\n",
    "- Uses the testing data in a datase to test a trained model and outputs its accuracy.\n",
    "- Plots one image, dots are the predictions and frames are wanted detections from the dataset.\n",
    "- Red frames means that a slot that is occupied is detected as not occupied, red dot is a slot that is not occupied detected as occupied\n",
    "- Model is not trained to detect a vacant slot, but is trained to detect 2 classes, backround and a parked car"
   ]
  },
  {
   "cell_type": "code",
   "execution_count": 1,
   "metadata": {},
   "outputs": [
    {
     "name": "stdout",
     "output_type": "stream",
     "text": [
      "root dataset directory:  datasets/CNRParkEXT/CNRParkEXT\n"
     ]
    },
    {
     "name": "stderr",
     "output_type": "stream",
     "text": [
      "100%|██████████| 3174/3174 [01:35<00:00, 33.32it/s]\n"
     ]
    }
   ],
   "source": [
    "from baselines.utils.process_data import get_dataframe\n",
    "\n",
    "get_dataframe(\"datasets/CNRParkEXT\")"
   ]
  },
  {
   "cell_type": "code",
   "execution_count": 1,
   "metadata": {},
   "outputs": [
    {
     "name": "stdout",
     "output_type": "stream",
     "text": [
      "Using CPU\n",
      "Recommend using GPU for faster training\n"
     ]
    },
    {
     "name": "stderr",
     "output_type": "stream",
     "text": [
      "100%|██████████| 20/20 [00:35<00:00,  1.78s/it]"
     ]
    },
    {
     "name": "stdout",
     "output_type": "stream",
     "text": [
      "Average accuracy on test dataset: 98.68 %\n"
     ]
    },
    {
     "name": "stderr",
     "output_type": "stream",
     "text": [
      "\n"
     ]
    }
   ],
   "source": [
    "from baselines.utils.inter_utils import *\n",
    "from baselines.intersection_based.inter_models import *\n",
    "from baselines.utils.common_utils import seed_everything, get_device\n",
    "from torch.utils.data import DataLoader\n",
    "import pandas as pd\n",
    "import warnings\n",
    "import argparse\n",
    "\n",
    "device = get_device()\n",
    "\n",
    "dataset = \"T10LOT\"\n",
    "\n",
    "dataset_path = os.path.join(\"datasets/\"+dataset, dataset)\n",
    "model = get_model(faster_rcnn_mobilenetV3_Large_params, pretrain=True)\n",
    "load_model(model, device, \"Saved_models/MobilenetV3_LARGE_pretrained/state_dict_final.pth\")\n",
    "model.to(device);\n",
    "\n",
    "DIR_INPUT = os.path.join(dataset_path, 'splitted_images')\n",
    "DIR_TEST = f'{DIR_INPUT}/test'\n",
    "dataframe = pd.read_csv(\"datasets/\"+str(dataset)+\"/\"+str(dataset)+\"/\"+str(dataset)+\"_dataframe.csv\")\n",
    "\n",
    "test_df = get_testDataframe(dataframe)\n",
    "\n",
    "# dataloaders\n",
    "test_dataset = ParkDataset(test_df, DIR_TEST, get_valid_transform())\n",
    "\n",
    "# Make a testing DataLoader\n",
    "test_data_loader = DataLoader(\n",
    "    test_dataset,\n",
    "    shuffle=False,\n",
    "    num_workers=4,\n",
    "    collate_fn=collate_fn\n",
    ")\n",
    "\n",
    "acc_list = test_model(model, test_data_loader, 0.8, save=True)\n",
    "avg_acc = sum(acc_list) / len(acc_list)\n",
    "print(\"Average accuracy on test dataset: %0.2f %%\" %(avg_acc*100))"
   ]
  },
  {
   "cell_type": "markdown",
   "metadata": {},
   "source": [
    "# Inference of a single image\n",
    "From a saved model dict"
   ]
  },
  {
   "cell_type": "code",
   "execution_count": 2,
   "metadata": {},
   "outputs": [
    {
     "name": "stdout",
     "output_type": "stream",
     "text": [
      "Using CPU\n",
      "Recommend using GPU for faster training\n"
     ]
    },
    {
     "name": "stderr",
     "output_type": "stream",
     "text": [
      "[ WARN:0@420.002] global loadsave.cpp:248 findDecoder imread_('Parking3/Picture0010.jpg'): can't open/read file: check file path/integrity\n"
     ]
    },
    {
     "ename": "AttributeError",
     "evalue": "'NoneType' object has no attribute 'astype'",
     "output_type": "error",
     "traceback": [
      "\u001b[0;31m---------------------------------------------------------------------------\u001b[0m",
      "\u001b[0;31mAttributeError\u001b[0m                            Traceback (most recent call last)",
      "Cell \u001b[0;32mIn[2], line 21\u001b[0m\n\u001b[1;32m     18\u001b[0m model\u001b[38;5;241m.\u001b[39mto(device)\n\u001b[1;32m     20\u001b[0m \u001b[38;5;66;03m#Image loading\u001b[39;00m\n\u001b[0;32m---> 21\u001b[0m image \u001b[38;5;241m=\u001b[39m \u001b[43mcv2\u001b[49m\u001b[38;5;241;43m.\u001b[39;49m\u001b[43mimread\u001b[49m\u001b[43m(\u001b[49m\u001b[43mimage_path\u001b[49m\u001b[43m,\u001b[49m\u001b[43m \u001b[49m\u001b[43mcv2\u001b[49m\u001b[38;5;241;43m.\u001b[39;49m\u001b[43mIMREAD_COLOR\u001b[49m\u001b[43m)\u001b[49m\u001b[38;5;241;43m.\u001b[39;49m\u001b[43mastype\u001b[49m(np\u001b[38;5;241m.\u001b[39mfloat32)\n\u001b[1;32m     22\u001b[0m image \u001b[38;5;241m=\u001b[39m cv2\u001b[38;5;241m.\u001b[39mcvtColor(image, cv2\u001b[38;5;241m.\u001b[39mCOLOR_BGR2RGB)\u001b[38;5;241m.\u001b[39mastype(np\u001b[38;5;241m.\u001b[39mfloat32)\n\u001b[1;32m     23\u001b[0m image \u001b[38;5;241m/\u001b[39m\u001b[38;5;241m=\u001b[39m \u001b[38;5;241m255.0\u001b[39m\n",
      "\u001b[0;31mAttributeError\u001b[0m: 'NoneType' object has no attribute 'astype'"
     ]
    }
   ],
   "source": [
    "from torchvision import transforms\n",
    "from baselines.utils.inter_utils import *\n",
    "from baselines.intersection_based.inter_models import *\n",
    "from baselines.utils.common_utils import seed_everything, get_device\n",
    "from torch.utils.data import DataLoader\n",
    "import pandas as pd\n",
    "import warnings\n",
    "import time\n",
    "\n",
    "#Inference image path\n",
    "image_path = f\"datasets/Parking3/Picture0010.jpg\"\n",
    "device = get_device()\n",
    "\n",
    "dataset = \"T10LOT\"\n",
    "dataset_path = os.path.join(\"datasets/\"+dataset, dataset)\n",
    "model = get_model(faster_rcnn_mobilenetV3_Small_params, pretrain=False)\n",
    "load_model(model, device, \"Saved_Models/T10LOT_RCNN_mobilenetV3_small_retrain/state_dict_final.pth\")\n",
    "model.to(device)\n",
    "    \n",
    "#Image loading\n",
    "image = cv2.imread(image_path, cv2.IMREAD_COLOR).astype(np.float32)\n",
    "image = cv2.cvtColor(image, cv2.COLOR_BGR2RGB).astype(np.float32)\n",
    "image /= 255.0\n",
    "\n",
    "#Image transofrmation and preprocessing\n",
    "preprocess = transforms.Compose([\n",
    "    # convert the frame to a CHW torch tensor for training\n",
    "    transforms.ToTensor(),\n",
    "    # normalize the colors to the range that mobilenet_v2/3 expect\n",
    "    #transforms.Normalize(mean=mean, std=std),\n",
    "])\n",
    "input_tensor = preprocess(image)\n",
    "input_batch = input_tensor.unsqueeze(0)\n",
    "#Running inference\n",
    "model.eval()\n",
    "with torch.no_grad():\n",
    "    input_batch = input_batch.to(device)\n",
    "    show_inference(input_batch, model, image, 0.8)"
   ]
  }
 ],
 "metadata": {
  "kernelspec": {
   "display_name": "env",
   "language": "python",
   "name": "python3"
  },
  "language_info": {
   "codemirror_mode": {
    "name": "ipython",
    "version": 3
   },
   "file_extension": ".py",
   "mimetype": "text/x-python",
   "name": "python",
   "nbconvert_exporter": "python",
   "pygments_lexer": "ipython3",
   "version": "3.11.5"
  }
 },
 "nbformat": 4,
 "nbformat_minor": 2
}
